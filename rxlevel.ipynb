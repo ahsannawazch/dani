{
 "cells": [
  {
   "cell_type": "code",
   "execution_count": 1,
   "metadata": {},
   "outputs": [],
   "source": [
    "import pandas as pd"
   ]
  },
  {
   "cell_type": "code",
   "execution_count": 2,
   "metadata": {},
   "outputs": [],
   "source": [
    "threshold = -90\n",
    "n = 2   # number of seconds\n",
    "cluster_members = 3 # number of elements together"
   ]
  },
  {
   "cell_type": "code",
   "execution_count": 14,
   "metadata": {},
   "outputs": [],
   "source": [
    "df = pd.read_excel(\"rxlevel.xlsx\",index_col=0)"
   ]
  },
  {
   "cell_type": "code",
   "execution_count": 4,
   "metadata": {},
   "outputs": [],
   "source": [
    "df.reset_index(drop=True,inplace=True)"
   ]
  },
  {
   "cell_type": "code",
   "execution_count": 5,
   "metadata": {},
   "outputs": [],
   "source": [
    "df2 = df.copy()"
   ]
  },
  {
   "cell_type": "code",
   "execution_count": 6,
   "metadata": {},
   "outputs": [
    {
     "data": {
      "text/html": [
       "<div>\n",
       "<style scoped>\n",
       "    .dataframe tbody tr th:only-of-type {\n",
       "        vertical-align: middle;\n",
       "    }\n",
       "\n",
       "    .dataframe tbody tr th {\n",
       "        vertical-align: top;\n",
       "    }\n",
       "\n",
       "    .dataframe thead th {\n",
       "        text-align: right;\n",
       "    }\n",
       "</style>\n",
       "<table border=\"1\" class=\"dataframe\">\n",
       "  <thead>\n",
       "    <tr style=\"text-align: right;\">\n",
       "      <th></th>\n",
       "      <th>Time</th>\n",
       "      <th>Date</th>\n",
       "      <th>Latitude</th>\n",
       "      <th>Longitude</th>\n",
       "      <th>Categorized Ec/Io:A1</th>\n",
       "      <th>Categorized RSCP:A1</th>\n",
       "    </tr>\n",
       "  </thead>\n",
       "  <tbody>\n",
       "    <tr>\n",
       "      <th>0</th>\n",
       "      <td>02:51:31.000</td>\n",
       "      <td>7/5/2022</td>\n",
       "      <td>31.43781</td>\n",
       "      <td>73.139322</td>\n",
       "      <td>-4.7</td>\n",
       "      <td>-62.099998</td>\n",
       "    </tr>\n",
       "    <tr>\n",
       "      <th>1</th>\n",
       "      <td>02:51:33.000</td>\n",
       "      <td>7/5/2022</td>\n",
       "      <td>31.43781</td>\n",
       "      <td>73.139322</td>\n",
       "      <td>-6.5</td>\n",
       "      <td>-63.700001</td>\n",
       "    </tr>\n",
       "    <tr>\n",
       "      <th>2</th>\n",
       "      <td>02:51:35.000</td>\n",
       "      <td>7/5/2022</td>\n",
       "      <td>31.43781</td>\n",
       "      <td>73.139322</td>\n",
       "      <td>-8.0</td>\n",
       "      <td>-63.900002</td>\n",
       "    </tr>\n",
       "    <tr>\n",
       "      <th>3</th>\n",
       "      <td>02:51:37.000</td>\n",
       "      <td>7/5/2022</td>\n",
       "      <td>31.43781</td>\n",
       "      <td>73.139322</td>\n",
       "      <td>-6.9</td>\n",
       "      <td>-63.299999</td>\n",
       "    </tr>\n",
       "    <tr>\n",
       "      <th>4</th>\n",
       "      <td>02:51:39.000</td>\n",
       "      <td>7/5/2022</td>\n",
       "      <td>31.43781</td>\n",
       "      <td>73.139322</td>\n",
       "      <td>-8.2</td>\n",
       "      <td>-64.000000</td>\n",
       "    </tr>\n",
       "  </tbody>\n",
       "</table>\n",
       "</div>"
      ],
      "text/plain": [
       "           Time      Date  Latitude  Longitude  Categorized Ec/Io:A1  \\\n",
       "0  02:51:31.000  7/5/2022  31.43781  73.139322                  -4.7   \n",
       "1  02:51:33.000  7/5/2022  31.43781  73.139322                  -6.5   \n",
       "2  02:51:35.000  7/5/2022  31.43781  73.139322                  -8.0   \n",
       "3  02:51:37.000  7/5/2022  31.43781  73.139322                  -6.9   \n",
       "4  02:51:39.000  7/5/2022  31.43781  73.139322                  -8.2   \n",
       "\n",
       "   Categorized RSCP:A1  \n",
       "0           -62.099998  \n",
       "1           -63.700001  \n",
       "2           -63.900002  \n",
       "3           -63.299999  \n",
       "4           -64.000000  "
      ]
     },
     "execution_count": 6,
     "metadata": {},
     "output_type": "execute_result"
    }
   ],
   "source": [
    "df2.head()"
   ]
  },
  {
   "cell_type": "code",
   "execution_count": 7,
   "metadata": {},
   "outputs": [],
   "source": [
    "#df2.rename(columns={\"RxLevFull (dBm) - .Server\":\"frequency\"},inplace=True)"
   ]
  },
  {
   "cell_type": "code",
   "execution_count": 8,
   "metadata": {},
   "outputs": [
    {
     "name": "stdout",
     "output_type": "stream",
     "text": [
      "<class 'pandas.core.frame.DataFrame'>\n",
      "RangeIndex: 27114 entries, 0 to 27113\n",
      "Data columns (total 6 columns):\n",
      " #   Column               Non-Null Count  Dtype  \n",
      "---  ------               --------------  -----  \n",
      " 0   Time                 27114 non-null  object \n",
      " 1   Date                 27114 non-null  object \n",
      " 2   Latitude             27114 non-null  float64\n",
      " 3   Longitude            27114 non-null  float64\n",
      " 4   frequency            27114 non-null  float64\n",
      " 5   Categorized RSCP:A1  27053 non-null  float64\n",
      "dtypes: float64(4), object(2)\n",
      "memory usage: 1.2+ MB\n"
     ]
    }
   ],
   "source": [
    "df2.info()"
   ]
  },
  {
   "cell_type": "code",
   "execution_count": 9,
   "metadata": {},
   "outputs": [
    {
     "data": {
      "text/plain": [
       "(23689, 6)"
      ]
     },
     "execution_count": 9,
     "metadata": {},
     "output_type": "execute_result"
    }
   ],
   "source": [
    "green_df  = df2.loc[df2[\"RxLevFull (dBm) - .Server\"] >= threshold]\n",
    "green_df.shape"
   ]
  },
  {
   "cell_type": "code",
   "execution_count": 13,
   "metadata": {},
   "outputs": [
    {
     "data": {
      "text/html": [
       "<div>\n",
       "<style scoped>\n",
       "    .dataframe tbody tr th:only-of-type {\n",
       "        vertical-align: middle;\n",
       "    }\n",
       "\n",
       "    .dataframe tbody tr th {\n",
       "        vertical-align: top;\n",
       "    }\n",
       "\n",
       "    .dataframe thead th {\n",
       "        text-align: right;\n",
       "    }\n",
       "</style>\n",
       "<table border=\"1\" class=\"dataframe\">\n",
       "  <thead>\n",
       "    <tr style=\"text-align: right;\">\n",
       "      <th></th>\n",
       "      <th>Time</th>\n",
       "      <th>Date</th>\n",
       "      <th>Latitude</th>\n",
       "      <th>Longitude</th>\n",
       "      <th>frequency</th>\n",
       "      <th>Categorized RSCP:A1</th>\n",
       "    </tr>\n",
       "  </thead>\n",
       "  <tbody>\n",
       "    <tr>\n",
       "      <th>326</th>\n",
       "      <td>03:06:11.000</td>\n",
       "      <td>7/5/2022</td>\n",
       "      <td>31.424067</td>\n",
       "      <td>73.156906</td>\n",
       "      <td>-12.1</td>\n",
       "      <td>-69.400002</td>\n",
       "    </tr>\n",
       "    <tr>\n",
       "      <th>351</th>\n",
       "      <td>03:07:01.000</td>\n",
       "      <td>7/5/2022</td>\n",
       "      <td>31.427028</td>\n",
       "      <td>73.153051</td>\n",
       "      <td>-13.4</td>\n",
       "      <td>-78.599998</td>\n",
       "    </tr>\n",
       "    <tr>\n",
       "      <th>352</th>\n",
       "      <td>03:07:03.000</td>\n",
       "      <td>7/5/2022</td>\n",
       "      <td>31.427156</td>\n",
       "      <td>73.152885</td>\n",
       "      <td>-12.9</td>\n",
       "      <td>-75.199997</td>\n",
       "    </tr>\n",
       "    <tr>\n",
       "      <th>519</th>\n",
       "      <td>03:12:45.000</td>\n",
       "      <td>7/5/2022</td>\n",
       "      <td>31.436808</td>\n",
       "      <td>73.147370</td>\n",
       "      <td>-13.0</td>\n",
       "      <td>-76.800003</td>\n",
       "    </tr>\n",
       "    <tr>\n",
       "      <th>527</th>\n",
       "      <td>03:13:01.000</td>\n",
       "      <td>7/5/2022</td>\n",
       "      <td>31.437429</td>\n",
       "      <td>73.148028</td>\n",
       "      <td>-13.2</td>\n",
       "      <td>-73.699997</td>\n",
       "    </tr>\n",
       "  </tbody>\n",
       "</table>\n",
       "</div>"
      ],
      "text/plain": [
       "             Time      Date   Latitude  Longitude  frequency  \\\n",
       "326  03:06:11.000  7/5/2022  31.424067  73.156906      -12.1   \n",
       "351  03:07:01.000  7/5/2022  31.427028  73.153051      -13.4   \n",
       "352  03:07:03.000  7/5/2022  31.427156  73.152885      -12.9   \n",
       "519  03:12:45.000  7/5/2022  31.436808  73.147370      -13.0   \n",
       "527  03:13:01.000  7/5/2022  31.437429  73.148028      -13.2   \n",
       "\n",
       "     Categorized RSCP:A1  \n",
       "326           -69.400002  \n",
       "351           -78.599998  \n",
       "352           -75.199997  \n",
       "519           -76.800003  \n",
       "527           -73.699997  "
      ]
     },
     "execution_count": 13,
     "metadata": {},
     "output_type": "execute_result"
    }
   ],
   "source": [
    "red_df = df2.loc[df2[\"RxLevFull (dBm) - .Server\"] < threshold]\n",
    "red_df.head()"
   ]
  },
  {
   "cell_type": "code",
   "execution_count": 10,
   "metadata": {},
   "outputs": [],
   "source": [
    "red_df= red_df.sort_values(by=\"Time\")"
   ]
  },
  {
   "cell_type": "code",
   "execution_count": 11,
   "metadata": {},
   "outputs": [
    {
     "data": {
      "text/html": [
       "<div>\n",
       "<style scoped>\n",
       "    .dataframe tbody tr th:only-of-type {\n",
       "        vertical-align: middle;\n",
       "    }\n",
       "\n",
       "    .dataframe tbody tr th {\n",
       "        vertical-align: top;\n",
       "    }\n",
       "\n",
       "    .dataframe thead th {\n",
       "        text-align: right;\n",
       "    }\n",
       "</style>\n",
       "<table border=\"1\" class=\"dataframe\">\n",
       "  <thead>\n",
       "    <tr style=\"text-align: right;\">\n",
       "      <th></th>\n",
       "      <th>Time</th>\n",
       "      <th>Date</th>\n",
       "      <th>Latitude</th>\n",
       "      <th>Longitude</th>\n",
       "      <th>frequency</th>\n",
       "    </tr>\n",
       "  </thead>\n",
       "  <tbody>\n",
       "    <tr>\n",
       "      <th>28412</th>\n",
       "      <td>12:35:05.000</td>\n",
       "      <td>7/14/2022</td>\n",
       "      <td>31.379836</td>\n",
       "      <td>73.085556</td>\n",
       "      <td>-90.900002</td>\n",
       "    </tr>\n",
       "    <tr>\n",
       "      <th>28413</th>\n",
       "      <td>12:35:07.000</td>\n",
       "      <td>7/14/2022</td>\n",
       "      <td>31.379958</td>\n",
       "      <td>73.085677</td>\n",
       "      <td>-91.599998</td>\n",
       "    </tr>\n",
       "    <tr>\n",
       "      <th>28414</th>\n",
       "      <td>12:35:09.000</td>\n",
       "      <td>7/14/2022</td>\n",
       "      <td>31.380079</td>\n",
       "      <td>73.085810</td>\n",
       "      <td>-91.400002</td>\n",
       "    </tr>\n",
       "    <tr>\n",
       "      <th>28415</th>\n",
       "      <td>12:35:11.000</td>\n",
       "      <td>7/14/2022</td>\n",
       "      <td>31.380208</td>\n",
       "      <td>73.085924</td>\n",
       "      <td>-90.300003</td>\n",
       "    </tr>\n",
       "    <tr>\n",
       "      <th>24403</th>\n",
       "      <td>17:50:53.000</td>\n",
       "      <td>7/13/2022</td>\n",
       "      <td>31.411087</td>\n",
       "      <td>73.094298</td>\n",
       "      <td>-90.199997</td>\n",
       "    </tr>\n",
       "  </tbody>\n",
       "</table>\n",
       "</div>"
      ],
      "text/plain": [
       "               Time       Date   Latitude  Longitude  frequency\n",
       "28412  12:35:05.000  7/14/2022  31.379836  73.085556 -90.900002\n",
       "28413  12:35:07.000  7/14/2022  31.379958  73.085677 -91.599998\n",
       "28414  12:35:09.000  7/14/2022  31.380079  73.085810 -91.400002\n",
       "28415  12:35:11.000  7/14/2022  31.380208  73.085924 -90.300003\n",
       "24403  17:50:53.000  7/13/2022  31.411087  73.094298 -90.199997"
      ]
     },
     "execution_count": 11,
     "metadata": {},
     "output_type": "execute_result"
    }
   ],
   "source": [
    "red_df.head()"
   ]
  },
  {
   "cell_type": "code",
   "execution_count": 12,
   "metadata": {},
   "outputs": [],
   "source": [
    "red_df[\"era\"] = pd.to_datetime(red_df[\"Date\"]+ \" \" +red_df[\"Time\"], infer_datetime_format=True,)\n"
   ]
  },
  {
   "cell_type": "code",
   "execution_count": 14,
   "metadata": {},
   "outputs": [
    {
     "data": {
      "text/html": [
       "<div>\n",
       "<style scoped>\n",
       "    .dataframe tbody tr th:only-of-type {\n",
       "        vertical-align: middle;\n",
       "    }\n",
       "\n",
       "    .dataframe tbody tr th {\n",
       "        vertical-align: top;\n",
       "    }\n",
       "\n",
       "    .dataframe thead th {\n",
       "        text-align: right;\n",
       "    }\n",
       "</style>\n",
       "<table border=\"1\" class=\"dataframe\">\n",
       "  <thead>\n",
       "    <tr style=\"text-align: right;\">\n",
       "      <th></th>\n",
       "      <th>Time</th>\n",
       "      <th>Date</th>\n",
       "      <th>Latitude</th>\n",
       "      <th>Longitude</th>\n",
       "      <th>frequency</th>\n",
       "      <th>era</th>\n",
       "      <th>Group</th>\n",
       "    </tr>\n",
       "  </thead>\n",
       "  <tbody>\n",
       "    <tr>\n",
       "      <th>24403</th>\n",
       "      <td>17:50:53.000</td>\n",
       "      <td>7/13/2022</td>\n",
       "      <td>31.411087</td>\n",
       "      <td>73.094298</td>\n",
       "      <td>-90.199997</td>\n",
       "      <td>2022-07-13 17:50:53</td>\n",
       "      <td>0</td>\n",
       "    </tr>\n",
       "    <tr>\n",
       "      <th>28412</th>\n",
       "      <td>12:35:05.000</td>\n",
       "      <td>7/14/2022</td>\n",
       "      <td>31.379836</td>\n",
       "      <td>73.085556</td>\n",
       "      <td>-90.900002</td>\n",
       "      <td>2022-07-14 12:35:05</td>\n",
       "      <td>1</td>\n",
       "    </tr>\n",
       "    <tr>\n",
       "      <th>28413</th>\n",
       "      <td>12:35:07.000</td>\n",
       "      <td>7/14/2022</td>\n",
       "      <td>31.379958</td>\n",
       "      <td>73.085677</td>\n",
       "      <td>-91.599998</td>\n",
       "      <td>2022-07-14 12:35:07</td>\n",
       "      <td>1</td>\n",
       "    </tr>\n",
       "    <tr>\n",
       "      <th>28414</th>\n",
       "      <td>12:35:09.000</td>\n",
       "      <td>7/14/2022</td>\n",
       "      <td>31.380079</td>\n",
       "      <td>73.085810</td>\n",
       "      <td>-91.400002</td>\n",
       "      <td>2022-07-14 12:35:09</td>\n",
       "      <td>1</td>\n",
       "    </tr>\n",
       "    <tr>\n",
       "      <th>28415</th>\n",
       "      <td>12:35:11.000</td>\n",
       "      <td>7/14/2022</td>\n",
       "      <td>31.380208</td>\n",
       "      <td>73.085924</td>\n",
       "      <td>-90.300003</td>\n",
       "      <td>2022-07-14 12:35:11</td>\n",
       "      <td>1</td>\n",
       "    </tr>\n",
       "  </tbody>\n",
       "</table>\n",
       "</div>"
      ],
      "text/plain": [
       "               Time       Date   Latitude  Longitude  frequency  \\\n",
       "24403  17:50:53.000  7/13/2022  31.411087  73.094298 -90.199997   \n",
       "28412  12:35:05.000  7/14/2022  31.379836  73.085556 -90.900002   \n",
       "28413  12:35:07.000  7/14/2022  31.379958  73.085677 -91.599998   \n",
       "28414  12:35:09.000  7/14/2022  31.380079  73.085810 -91.400002   \n",
       "28415  12:35:11.000  7/14/2022  31.380208  73.085924 -90.300003   \n",
       "\n",
       "                      era  Group  \n",
       "24403 2022-07-13 17:50:53      0  \n",
       "28412 2022-07-14 12:35:05      1  \n",
       "28413 2022-07-14 12:35:07      1  \n",
       "28414 2022-07-14 12:35:09      1  \n",
       "28415 2022-07-14 12:35:11      1  "
      ]
     },
     "execution_count": 14,
     "metadata": {},
     "output_type": "execute_result"
    }
   ],
   "source": [
    "red_df = red_df.sort_values(by=\"era\")\n",
    "red_df[\"Group\"] = red_df.era.diff().dt.seconds.gt(n).cumsum()\n",
    "red_df\n",
    "#red_df.dtypes\n",
    "#pd.to_datetime(red_df[\"Time\"], format = \" %d/%m/%Y %H:%M:%S \",errors=\"coerce\"  )"
   ]
  },
  {
   "cell_type": "code",
   "execution_count": 27,
   "metadata": {},
   "outputs": [
    {
     "data": {
      "text/plain": [
       "[1]"
      ]
     },
     "execution_count": 27,
     "metadata": {},
     "output_type": "execute_result"
    }
   ],
   "source": [
    "# Required unique Group **numbers** having specific cluster_members into a list\n",
    "group_id = red_df[\"Group\"].value_counts()[red_df[\"Group\"].value_counts() >= cluster_members].index.to_list() \n",
    "group_id"
   ]
  },
  {
   "cell_type": "code",
   "execution_count": 28,
   "metadata": {},
   "outputs": [],
   "source": [
    "# All records having those unique groups\n",
    "red_df = red_df.loc[red_df[\"Group\"].isin(group_id)]      "
   ]
  },
  {
   "cell_type": "code",
   "execution_count": 17,
   "metadata": {},
   "outputs": [],
   "source": [
    "final_red = red_df.drop(columns=[\"era\",\"Group\"])"
   ]
  },
  {
   "cell_type": "code",
   "execution_count": 18,
   "metadata": {},
   "outputs": [
    {
     "data": {
      "text/html": [
       "<div>\n",
       "<style scoped>\n",
       "    .dataframe tbody tr th:only-of-type {\n",
       "        vertical-align: middle;\n",
       "    }\n",
       "\n",
       "    .dataframe tbody tr th {\n",
       "        vertical-align: top;\n",
       "    }\n",
       "\n",
       "    .dataframe thead th {\n",
       "        text-align: right;\n",
       "    }\n",
       "</style>\n",
       "<table border=\"1\" class=\"dataframe\">\n",
       "  <thead>\n",
       "    <tr style=\"text-align: right;\">\n",
       "      <th></th>\n",
       "      <th>Time</th>\n",
       "      <th>Date</th>\n",
       "      <th>Latitude</th>\n",
       "      <th>Longitude</th>\n",
       "      <th>frequency</th>\n",
       "    </tr>\n",
       "  </thead>\n",
       "  <tbody>\n",
       "    <tr>\n",
       "      <th>28412</th>\n",
       "      <td>12:35:05.000</td>\n",
       "      <td>7/14/2022</td>\n",
       "      <td>31.379836</td>\n",
       "      <td>73.085556</td>\n",
       "      <td>-90.900002</td>\n",
       "    </tr>\n",
       "    <tr>\n",
       "      <th>28413</th>\n",
       "      <td>12:35:07.000</td>\n",
       "      <td>7/14/2022</td>\n",
       "      <td>31.379958</td>\n",
       "      <td>73.085677</td>\n",
       "      <td>-91.599998</td>\n",
       "    </tr>\n",
       "    <tr>\n",
       "      <th>28414</th>\n",
       "      <td>12:35:09.000</td>\n",
       "      <td>7/14/2022</td>\n",
       "      <td>31.380079</td>\n",
       "      <td>73.085810</td>\n",
       "      <td>-91.400002</td>\n",
       "    </tr>\n",
       "    <tr>\n",
       "      <th>28415</th>\n",
       "      <td>12:35:11.000</td>\n",
       "      <td>7/14/2022</td>\n",
       "      <td>31.380208</td>\n",
       "      <td>73.085924</td>\n",
       "      <td>-90.300003</td>\n",
       "    </tr>\n",
       "  </tbody>\n",
       "</table>\n",
       "</div>"
      ],
      "text/plain": [
       "               Time       Date   Latitude  Longitude  frequency\n",
       "28412  12:35:05.000  7/14/2022  31.379836  73.085556 -90.900002\n",
       "28413  12:35:07.000  7/14/2022  31.379958  73.085677 -91.599998\n",
       "28414  12:35:09.000  7/14/2022  31.380079  73.085810 -91.400002\n",
       "28415  12:35:11.000  7/14/2022  31.380208  73.085924 -90.300003"
      ]
     },
     "execution_count": 18,
     "metadata": {},
     "output_type": "execute_result"
    }
   ],
   "source": [
    "final_red"
   ]
  },
  {
   "cell_type": "code",
   "execution_count": 19,
   "metadata": {},
   "outputs": [],
   "source": [
    "final_df = pd.concat([green_df,final_red],ignore_index=True,axis=0)"
   ]
  },
  {
   "cell_type": "code",
   "execution_count": 20,
   "metadata": {},
   "outputs": [
    {
     "data": {
      "text/html": [
       "<div>\n",
       "<style scoped>\n",
       "    .dataframe tbody tr th:only-of-type {\n",
       "        vertical-align: middle;\n",
       "    }\n",
       "\n",
       "    .dataframe tbody tr th {\n",
       "        vertical-align: top;\n",
       "    }\n",
       "\n",
       "    .dataframe thead th {\n",
       "        text-align: right;\n",
       "    }\n",
       "</style>\n",
       "<table border=\"1\" class=\"dataframe\">\n",
       "  <thead>\n",
       "    <tr style=\"text-align: right;\">\n",
       "      <th></th>\n",
       "      <th>Time</th>\n",
       "      <th>Date</th>\n",
       "      <th>Latitude</th>\n",
       "      <th>Longitude</th>\n",
       "      <th>frequency</th>\n",
       "    </tr>\n",
       "  </thead>\n",
       "  <tbody>\n",
       "    <tr>\n",
       "      <th>29776</th>\n",
       "      <td>12:35:05.000</td>\n",
       "      <td>7/14/2022</td>\n",
       "      <td>31.379836</td>\n",
       "      <td>73.085556</td>\n",
       "      <td>-90.900002</td>\n",
       "    </tr>\n",
       "    <tr>\n",
       "      <th>29777</th>\n",
       "      <td>12:35:07.000</td>\n",
       "      <td>7/14/2022</td>\n",
       "      <td>31.379958</td>\n",
       "      <td>73.085677</td>\n",
       "      <td>-91.599998</td>\n",
       "    </tr>\n",
       "    <tr>\n",
       "      <th>29778</th>\n",
       "      <td>12:35:09.000</td>\n",
       "      <td>7/14/2022</td>\n",
       "      <td>31.380079</td>\n",
       "      <td>73.085810</td>\n",
       "      <td>-91.400002</td>\n",
       "    </tr>\n",
       "    <tr>\n",
       "      <th>29779</th>\n",
       "      <td>12:35:11.000</td>\n",
       "      <td>7/14/2022</td>\n",
       "      <td>31.380208</td>\n",
       "      <td>73.085924</td>\n",
       "      <td>-90.300003</td>\n",
       "    </tr>\n",
       "  </tbody>\n",
       "</table>\n",
       "</div>"
      ],
      "text/plain": [
       "               Time       Date   Latitude  Longitude  frequency\n",
       "29776  12:35:05.000  7/14/2022  31.379836  73.085556 -90.900002\n",
       "29777  12:35:07.000  7/14/2022  31.379958  73.085677 -91.599998\n",
       "29778  12:35:09.000  7/14/2022  31.380079  73.085810 -91.400002\n",
       "29779  12:35:11.000  7/14/2022  31.380208  73.085924 -90.300003"
      ]
     },
     "execution_count": 20,
     "metadata": {},
     "output_type": "execute_result"
    }
   ],
   "source": [
    "final_df.query(\"RxLevFull (dBm) - .Server <  -90\")"
   ]
  },
  {
   "cell_type": "code",
   "execution_count": 22,
   "metadata": {},
   "outputs": [
    {
     "name": "stdout",
     "output_type": "stream",
     "text": [
      " Project Done\n"
     ]
    }
   ],
   "source": [
    "print( \" Project Done\")"
   ]
  },
  {
   "cell_type": "code",
   "execution_count": 29,
   "metadata": {},
   "outputs": [],
   "source": [
    "final_df.to_csv(\"filtered rxlevels.csv\")"
   ]
  },
  {
   "cell_type": "code",
   "execution_count": null,
   "metadata": {},
   "outputs": [],
   "source": []
  },
  {
   "cell_type": "code",
   "execution_count": null,
   "metadata": {},
   "outputs": [],
   "source": []
  },
  {
   "cell_type": "code",
   "execution_count": null,
   "metadata": {},
   "outputs": [],
   "source": []
  },
  {
   "cell_type": "code",
   "execution_count": null,
   "metadata": {},
   "outputs": [],
   "source": []
  },
  {
   "cell_type": "code",
   "execution_count": null,
   "metadata": {},
   "outputs": [],
   "source": []
  },
  {
   "cell_type": "code",
   "execution_count": null,
   "metadata": {},
   "outputs": [],
   "source": []
  },
  {
   "cell_type": "code",
   "execution_count": null,
   "metadata": {},
   "outputs": [],
   "source": []
  },
  {
   "cell_type": "code",
   "execution_count": 28,
   "metadata": {},
   "outputs": [
    {
     "data": {
      "text/plain": [
       "Time\n",
       "2022-07-07 00:47:40    1\n",
       "2022-07-07 00:48:00    0\n",
       "2022-07-07 00:48:20    0\n",
       "2022-07-07 00:48:40    0\n",
       "2022-07-07 00:49:00    0\n",
       "                      ..\n",
       "2022-07-14 10:49:00    3\n",
       "2022-07-14 10:49:20    0\n",
       "2022-07-14 10:49:40    0\n",
       "2022-07-14 10:50:00    0\n",
       "2022-07-14 10:50:20    2\n",
       "Freq: 20S, Name: frequency, Length: 32049, dtype: int64"
      ]
     },
     "execution_count": 28,
     "metadata": {},
     "output_type": "execute_result"
    }
   ],
   "source": [
    "x = df.groupby([pd.Grouper(key='Time', freq='20S')]).frequency.count()\n",
    "\n",
    "#x.sort_values(ascending=False)[:15]"
   ]
  },
  {
   "cell_type": "code",
   "execution_count": 37,
   "metadata": {},
   "outputs": [
    {
     "data": {
      "text/html": [
       "<div>\n",
       "<style scoped>\n",
       "    .dataframe tbody tr th:only-of-type {\n",
       "        vertical-align: middle;\n",
       "    }\n",
       "\n",
       "    .dataframe tbody tr th {\n",
       "        vertical-align: top;\n",
       "    }\n",
       "\n",
       "    .dataframe thead th {\n",
       "        text-align: right;\n",
       "    }\n",
       "</style>\n",
       "<table border=\"1\" class=\"dataframe\">\n",
       "  <thead>\n",
       "    <tr style=\"text-align: right;\">\n",
       "      <th></th>\n",
       "      <th>Latitude</th>\n",
       "      <th>Longitude</th>\n",
       "      <th>frequency</th>\n",
       "    </tr>\n",
       "    <tr>\n",
       "      <th>Time</th>\n",
       "      <th></th>\n",
       "      <th></th>\n",
       "      <th></th>\n",
       "    </tr>\n",
       "  </thead>\n",
       "  <tbody>\n",
       "    <tr>\n",
       "      <th>2022-07-07 00:47:48</th>\n",
       "      <td>1</td>\n",
       "      <td>1</td>\n",
       "      <td>1</td>\n",
       "    </tr>\n",
       "    <tr>\n",
       "      <th>2022-07-07 00:47:50</th>\n",
       "      <td>0</td>\n",
       "      <td>0</td>\n",
       "      <td>0</td>\n",
       "    </tr>\n",
       "    <tr>\n",
       "      <th>2022-07-07 00:47:52</th>\n",
       "      <td>0</td>\n",
       "      <td>0</td>\n",
       "      <td>0</td>\n",
       "    </tr>\n",
       "    <tr>\n",
       "      <th>2022-07-07 00:47:54</th>\n",
       "      <td>0</td>\n",
       "      <td>0</td>\n",
       "      <td>0</td>\n",
       "    </tr>\n",
       "    <tr>\n",
       "      <th>2022-07-07 00:47:56</th>\n",
       "      <td>0</td>\n",
       "      <td>0</td>\n",
       "      <td>0</td>\n",
       "    </tr>\n",
       "    <tr>\n",
       "      <th>...</th>\n",
       "      <td>...</td>\n",
       "      <td>...</td>\n",
       "      <td>...</td>\n",
       "    </tr>\n",
       "    <tr>\n",
       "      <th>2022-07-14 10:50:22</th>\n",
       "      <td>0</td>\n",
       "      <td>0</td>\n",
       "      <td>0</td>\n",
       "    </tr>\n",
       "    <tr>\n",
       "      <th>2022-07-14 10:50:24</th>\n",
       "      <td>0</td>\n",
       "      <td>0</td>\n",
       "      <td>0</td>\n",
       "    </tr>\n",
       "    <tr>\n",
       "      <th>2022-07-14 10:50:26</th>\n",
       "      <td>0</td>\n",
       "      <td>0</td>\n",
       "      <td>0</td>\n",
       "    </tr>\n",
       "    <tr>\n",
       "      <th>2022-07-14 10:50:28</th>\n",
       "      <td>1</td>\n",
       "      <td>1</td>\n",
       "      <td>1</td>\n",
       "    </tr>\n",
       "    <tr>\n",
       "      <th>2022-07-14 10:50:30</th>\n",
       "      <td>1</td>\n",
       "      <td>1</td>\n",
       "      <td>1</td>\n",
       "    </tr>\n",
       "  </tbody>\n",
       "</table>\n",
       "<p>320482 rows × 3 columns</p>\n",
       "</div>"
      ],
      "text/plain": [
       "                     Latitude  Longitude  frequency\n",
       "Time                                               \n",
       "2022-07-07 00:47:48         1          1          1\n",
       "2022-07-07 00:47:50         0          0          0\n",
       "2022-07-07 00:47:52         0          0          0\n",
       "2022-07-07 00:47:54         0          0          0\n",
       "2022-07-07 00:47:56         0          0          0\n",
       "...                       ...        ...        ...\n",
       "2022-07-14 10:50:22         0          0          0\n",
       "2022-07-14 10:50:24         0          0          0\n",
       "2022-07-14 10:50:26         0          0          0\n",
       "2022-07-14 10:50:28         1          1          1\n",
       "2022-07-14 10:50:30         1          1          1\n",
       "\n",
       "[320482 rows x 3 columns]"
      ]
     },
     "execution_count": 37,
     "metadata": {},
     "output_type": "execute_result"
    }
   ],
   "source": [
    "df.set_index('Time').resample('2s').count()"
   ]
  }
 ],
 "metadata": {
  "kernelspec": {
   "display_name": "Python 3.10.2 64-bit",
   "language": "python",
   "name": "python3"
  },
  "language_info": {
   "codemirror_mode": {
    "name": "ipython",
    "version": 3
   },
   "file_extension": ".py",
   "mimetype": "text/x-python",
   "name": "python",
   "nbconvert_exporter": "python",
   "pygments_lexer": "ipython3",
   "version": "3.10.2"
  },
  "orig_nbformat": 4,
  "vscode": {
   "interpreter": {
    "hash": "369f2c481f4da34e4445cda3fffd2e751bd1c4d706f27375911949ba6bb62e1c"
   }
  }
 },
 "nbformat": 4,
 "nbformat_minor": 2
}
